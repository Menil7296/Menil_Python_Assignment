{
 "cells": [
  {
   "cell_type": "code",
   "execution_count": null,
   "id": "88201676",
   "metadata": {},
   "outputs": [],
   "source": [
    "#1. Write a python program to sum of the first n positive integers.\n",
    "n=int(input())\n",
    "sum=(n*(n+1))//2\n",
    "print(sum)\n"
   ]
  },
  {
   "cell_type": "code",
   "execution_count": null,
   "id": "4083dd52",
   "metadata": {},
   "outputs": [],
   "source": [
    "#2. Write a Python program to count occurrences of a substring in a string.\n",
    "str1='banana is very healthy fruit'\n",
    "str1.count('a')"
   ]
  },
  {
   "cell_type": "code",
   "execution_count": null,
   "id": "3f382e33",
   "metadata": {},
   "outputs": [],
   "source": [
    "#3. Write a Python program to count the occurrences of each word in a given sentence.\n",
    "str1 = \"I am menil and I am learning Python.\"\n",
    "l1 = str1.split()\n",
    "for i in l1:\n",
    "    f = l1.count(i)\n",
    "    print(i, f, end=', ')"
   ]
  },
  {
   "cell_type": "code",
   "execution_count": null,
   "id": "6632939a",
   "metadata": {},
   "outputs": [],
   "source": [
    "#4. Write a Python program to get a single string from two given strings,\n",
    "#separated by a space and swap the first two characters of each string\n",
    "v=input()\n",
    "x=input()\n",
    "if len(v)>2 and len(x)>2:\n",
    "    v1=v[:2]\n",
    "    x1=x[:2]\n",
    "    v2=v[2:]\n",
    "    x2=x[2:]\n",
    "    ans=v1+x2\n",
    "    ansr=x1+v2\n",
    "    print(ans)\n",
    "    print(ansr)\n",
    "else:\n",
    "    print('invalied string')"
   ]
  },
  {
   "cell_type": "code",
   "execution_count": null,
   "id": "f94f254b",
   "metadata": {},
   "outputs": [],
   "source": [
    "#5. Write a Python program to add 'ing' at the end of a given string (length should be at least 3). \n",
    "#If the given string already ends with 'ing' then add 'ly' instead If the string length of the given \n",
    "#Xstring is less than 3, leave it unchanged \n",
    "string=str(input())\n",
    "\n",
    "if string.endswith('ing'):\n",
    "    string +='ly'\n",
    "elif len(string)>=3:\n",
    "    string +='ing'\n",
    "print(string)\n"
   ]
  },
  {
   "cell_type": "code",
   "execution_count": null,
   "id": "994d6d69",
   "metadata": {},
   "outputs": [],
   "source": [
    "#6. Write a Python program to find the first appearance of the substring \n",
    "#'not' and 'poor' from a given string, if'not' follows the 'poor',\n",
    "#replace the whole 'not'...'poor' substring with 'good'.Return the resulting string.\n",
    "\n",
    "str1 = 'they people are not a bed and poor'\n",
    "str2=str1.replace('not a bed and poor','good')\n",
    "print(str2)"
   ]
  },
  {
   "cell_type": "code",
   "execution_count": null,
   "id": "706c7944",
   "metadata": {},
   "outputs": [],
   "source": [
    "#7. Program to find Greatest Common Divisor of two numbers.\n",
    "#For example, the GCD of 20 and 28 is 4 and GCD of 98 and 56 is 14.\n",
    "def gcd (a,b):\n",
    "    if(a==0):\n",
    "        return b\n",
    "    if(b==0):\n",
    "        return a\n",
    "    if(a>b):\n",
    "        return gcd(a-b,b)\n",
    "    return gcd(a,b-a)\n",
    "a=20\n",
    "b=28\n",
    "if(gcd(a,b)):\n",
    "    print(gcd(a,b))\n",
    "else:\n",
    "    print('not found')"
   ]
  },
  {
   "cell_type": "code",
   "execution_count": null,
   "id": "58a4dee0",
   "metadata": {},
   "outputs": [],
   "source": [
    "#8. Write a Python program to check whether a list contains a sublist.\n",
    "sub_list=[1,2,5,3,4]\n",
    "list1=[1,2,3,sub_list]\n",
    "if sub_list in list1:\n",
    "    print('its is present')\n",
    "else:\n",
    "    print('not present')\n",
    "    \n",
    "    "
   ]
  },
  {
   "cell_type": "code",
   "execution_count": null,
   "id": "9d584262",
   "metadata": {},
   "outputs": [],
   "source": [
    "#9. Write a Python program to find the second smallest number in a list.\n",
    "list1=[999,214,777,272,555,465,567]\n",
    "list1.sort()\n",
    "sencond_smallest=list1[1]\n",
    "print(sencond_smallest)"
   ]
  },
  {
   "cell_type": "code",
   "execution_count": null,
   "id": "3693b912",
   "metadata": {},
   "outputs": [],
   "source": [
    "#10. Write a Python program to get unique values from a list.\n",
    "list1=[1,27,24,27,72,72,7,7,24,45,]\n",
    "res=[]\n",
    "for i in list1:\n",
    "    if i not in res:\n",
    "        res.append(i)\n",
    "print(res)\n"
   ]
  },
  {
   "cell_type": "code",
   "execution_count": null,
   "id": "ad178b53",
   "metadata": {},
   "outputs": [],
   "source": [
    "#11. Write a Python program to unzip a list of tuples into individual lists.\n",
    "list1=[(1,3,5),(2,4,6),(3,5,7)]\n",
    "list2=list(zip(*list1))\n",
    "list2\n"
   ]
  },
  {
   "cell_type": "code",
   "execution_count": null,
   "id": "a27dcb21",
   "metadata": {},
   "outputs": [],
   "source": [
    "#12. Write a Python program to convert a list of tuples into a dictionary\n",
    "list1=[('m',7),('h',27),('e',72),('r',63),('r',96),('y',99)]\n",
    "v=dict(list1)\n",
    "print(v)\n"
   ]
  },
  {
   "cell_type": "code",
   "execution_count": null,
   "id": "84d2d6e7",
   "metadata": {},
   "outputs": [],
   "source": [
    "#13. Write a Python program to sort a dictionary (ascending /descending) by value.\n",
    "dict1={'apple': 30, 'banana': 20, 'orange': 10}\n",
    "# sorted(dict1.items(dict1,reverse=True))\n",
    "# sorted_dict_ascending_alt = dict(sorted(dict1.items(), key = dict.get))\n",
    "# sorted_dict_descending_alt = dict(sorted(dict1.items(), key = dict.get, reverse=True))\n",
    "sorted_dict_ascending_alt = dict(sorted(dict1.items(), key=lambda item: dict1.get(item[0])))\n",
    "\n",
    "sorted_dict_descending_alt = dict(sorted(dict1.items(), key=lambda item: dict1.get(item[0]), reverse=True))\n",
    "print(sorted_dict_ascending_alt)\n",
    "\n",
    "print(\"\\nSorted by value in descending order (Alternative):\")\n",
    "print(sorted_dict_descending_alt)"
   ]
  },
  {
   "cell_type": "code",
   "execution_count": null,
   "id": "4ae9b8f0",
   "metadata": {},
   "outputs": [],
   "source": [
    "#14. Write a Python program to find the highest 3 values in a dictionary.\n",
    "dict1={'m':27,'e':72,'h':96,'r':99,'y':55} \n",
    "dict2=list(dict1.values())\n",
    "dict2.sort()\n",
    "dict2[-3:]"
   ]
  },
  {
   "cell_type": "code",
   "execution_count": null,
   "id": "d796a6f1",
   "metadata": {},
   "outputs": [],
   "source": [
    "#15. Given a number n, write a python program to make and print the list of Fibonacci series up to n.\n",
    "#Input : n=7 Hint : first 7 numbers in the series\n",
    "#Expected output : First few Fibonacci numbers are 0, 1, 1, 2, 3, 5, 8, 13\n",
    "num=int(input())\n",
    "a=0\n",
    "b=1\n",
    "i=1\n",
    "while num>=i:\n",
    "    c=a+b\n",
    "    print(b , end=' ')\n",
    "    i+=1\n",
    "    a=b\n",
    "    b=c"
   ]
  },
  {
   "cell_type": "code",
   "execution_count": null,
   "id": "0355823c",
   "metadata": {},
   "outputs": [],
   "source": [
    "#16. Counting the frequencies in a list using a dictionary in Python.\n",
    "#Input : [1, 1, 1, 5, 5, 3, 1, 3, 3, 1,4, 4, 4, 2, 2, 2, 2]\n",
    "#Expected output : 1 : 5 , 2 : 4 , 3 : 3 , 4 : 3 , 5 : 2\n",
    "\n",
    "num1= [1, 1, 1, 5, 5, 3, 1, 3, 3, 1,4, 4, 4, 2, 2, 2, 2]\n",
    "dict1={}\n",
    "for num in num1:\n",
    "    if num in dict1:\n",
    "        dict1[num]+=1\n",
    "    else:\n",
    "        dict1[num] = 1\n",
    "        \n",
    "print(dict1)"
   ]
  },
  {
   "cell_type": "code",
   "execution_count": null,
   "id": "a4fe04a8",
   "metadata": {},
   "outputs": [],
   "source": [
    "#17. Write a python program using function to find the sum of odd series and even series\n",
    "#Odd series: 12/ 1! + 32/ 3! + 52/ 5!+……n\n",
    "#Even series: 22/ 2! + 42/ 4! + 62/ 6!+……n\n",
    "n=int(input())\n",
    "\n",
    "\n",
    "#10 * 2 + 2\n",
    "#10 * 4 + 2\n",
    "#10 * 6 + 2\n",
    "\n",
    "\n",
    "#10 * 1 + 2\n",
    "#10 * 3 + 2\n",
    "def fact(num):\n",
    "    res = 1\n",
    "    for i in range(1, num+1):\n",
    "        res *= i\n",
    "    return res\n",
    "\n",
    "f,sum=1,0\n",
    "if n % 2 == 0:\n",
    "    ans = 0\n",
    "    for i in range(2, n+1, 2):\n",
    "        ans += ((10 * i) + 2)/ fact(i)\n",
    "    print(ans)        \n",
    "        \n",
    "else:\n",
    "    ans = 0\n",
    "    for i in range (1,n+1, 2):\n",
    "        ans += ((10 * i) + 2)/ fact(i)\n",
    "    print(ans)"
   ]
  },
  {
   "cell_type": "code",
   "execution_count": null,
   "id": "9afdc8ce",
   "metadata": {},
   "outputs": [],
   "source": [
    "#18. Python Program to Find Factorial of Number Using Recursion\n",
    "def fact(num):\n",
    "    if num==1:\n",
    "        return 1\n",
    "    else:\n",
    "        return num*fact(num-1)\n",
    "fact(5)"
   ]
  },
  {
   "cell_type": "code",
   "execution_count": null,
   "id": "1e9a1c52",
   "metadata": {},
   "outputs": [],
   "source": [
    "#19. Write a Python function that takes a list and returns a new list\n",
    "#with unique elements of the first list.\n",
    "list1=[1,9,3,4,5,2,2,7,7,9,4,5,6,3,1,27,72,27,72,99,96,96,99]\n",
    "list2=set(list1)\n",
    "h=list(list2)\n",
    "print(h)"
   ]
  },
  {
   "cell_type": "code",
   "execution_count": null,
   "id": "66766f41",
   "metadata": {},
   "outputs": [],
   "source": [
    "#20. Mini project :\n",
    "#Problem Statement : Password Generator\n",
    "#Make a program to generate a strong password using the input given by the user. \n",
    "#special characters and capital letters to generate the password. Also, keep a check that\n",
    "#password length is more than 8 characters.\n",
    "#Note: Include Exception handling wherever required. Also, make a ‘User’ class and store\n",
    "#the details like userid, name and password of each user as a tuple."
   ]
  }
 ],
 "metadata": {
  "kernelspec": {
   "display_name": "Python 3 (ipykernel)",
   "language": "python",
   "name": "python3"
  },
  "language_info": {
   "codemirror_mode": {
    "name": "ipython",
    "version": 3
   },
   "file_extension": ".py",
   "mimetype": "text/x-python",
   "name": "python",
   "nbconvert_exporter": "python",
   "pygments_lexer": "ipython3",
   "version": "3.10.9"
  }
 },
 "nbformat": 4,
 "nbformat_minor": 5
}
